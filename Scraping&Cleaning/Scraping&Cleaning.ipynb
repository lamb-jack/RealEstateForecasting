{
 "cells": [
  {
   "cell_type": "markdown",
   "metadata": {},
   "source": [
    "# Scraping real state attributes in Benito Juarez, CDMX"
   ]
  },
  {
   "cell_type": "code",
   "execution_count": 1,
   "metadata": {},
   "outputs": [],
   "source": [
    "from bs4 import BeautifulSoup\n",
    "import requests\n",
    "from scrapy import Selector\n",
    "import pandas as pd\n",
    "import numpy as np\n",
    "import matplotlib.pyplot as plt\n",
    "import scipy.stats as st\n",
    "\n",
    "#my functions\n",
    "from rdb_functions import clean_list\n",
    "from rdb_functions import clean_list_url\n"
   ]
  },
  {
   "cell_type": "markdown",
   "metadata": {},
   "source": [
    "We manually searched real state sales in metroscubicos.com in Alcaldia Benito Juarez."
   ]
  },
  {
   "cell_type": "code",
   "execution_count": 2,
   "metadata": {},
   "outputs": [],
   "source": [
    "url='https://inmuebles.metroscubicos.com/casas/venta/distrito-federal/benito-juarez/#origin=search&as_word=true'\n",
    "#Get html content\n",
    "html = requests.get( url ).content\n",
    "sel = Selector( text = html )"
   ]
  },
  {
   "cell_type": "markdown",
   "metadata": {},
   "source": [
    "## Getting all urls"
   ]
  },
  {
   "cell_type": "code",
   "execution_count": 3,
   "metadata": {},
   "outputs": [],
   "source": [
    "path='//*[@class=\"andes-pagination__link\"]'\n",
    "urls=sel.xpath(path).extract()\n",
    "\n",
    "#Getting the fist urls\n",
    "urls=clean_list_url(urls)"
   ]
  },
  {
   "cell_type": "markdown",
   "metadata": {},
   "source": [
    "there aren't further urls beyond the last from the previous query"
   ]
  },
  {
   "cell_type": "code",
   "execution_count": 4,
   "metadata": {},
   "outputs": [],
   "source": [
    "#starting in last position from the previous query\n",
    "url=urls[len(urls)-1]\n",
    "\n",
    "html = requests.get( url ).content\n",
    "sel = Selector( text = html )\n",
    "\n",
    "#Getting the lasts urls\n",
    "path='//*[@class=\"andes-pagination__link\"]'\n",
    "urls2=sel.xpath(path).extract()\n",
    "urls2=clean_list_url(urls2)\n",
    "urls.extend(urls2)"
   ]
  },
  {
   "cell_type": "markdown",
   "metadata": {},
   "source": [
    "## Getting Attributes"
   ]
  },
  {
   "cell_type": "code",
   "execution_count": 5,
   "metadata": {},
   "outputs": [
    {
     "name": "stdout",
     "output_type": "stream",
     "text": [
      "This url didnt work: \n",
      " #\n",
      "This url didnt work: \n",
      " #\n"
     ]
    }
   ],
   "source": [
    "#empty list of attributes\n",
    "atr=[]\n",
    "price=[]\n",
    "status=[]\n",
    "adress=[]\n",
    "\n",
    "for url in urls:\n",
    "    try:\n",
    "        html = requests.get( url ).content\n",
    "        sel = Selector( text = html )\n",
    "    except:\n",
    "        print(f'This url didnt work: \\n {url}')\n",
    "              \n",
    "    try:\n",
    "        path='//*[@class=\"item__attrs\"]'\n",
    "        aux=sel.xpath(path).extract()\n",
    "        atr.extend(clean_list(aux))\n",
    "    except:\n",
    "        print(f'no attributes info in:\\n{url}')\n",
    "        \n",
    "    try:\n",
    "        path='//*[@class=\"price__fraction\"]'\n",
    "        aux=sel.xpath(path).extract()\n",
    "        price.extend(clean_list(aux))\n",
    "    except:\n",
    "        print(f'no prices info in:\\n{url}')\n",
    "\n",
    "    try:\n",
    "        path='//*[@class=\"item__info-title\"]'\n",
    "        aux=sel.xpath(path).extract()\n",
    "        status.extend(clean_list(aux))\n",
    "    except:\n",
    "        print(f'no prices info in:\\n{url}')\n",
    "        \n",
    "    try:\n",
    "        path='//*[@class=\"item__title\"]'\n",
    "        aux=sel.xpath(path).extract()\n",
    "        adress.extend(clean_list(aux))\n",
    "    except:\n",
    "        print(f'no prices info in:\\n{url}')  \n",
    "        "
   ]
  },
  {
   "cell_type": "markdown",
   "metadata": {},
   "source": [
    "## Generating the Pandas"
   ]
  },
  {
   "cell_type": "code",
   "execution_count": 6,
   "metadata": {},
   "outputs": [],
   "source": [
    "data=pd.DataFrame({'attributes':atr,'price':price,'status':status,'adress':adress})"
   ]
  },
  {
   "cell_type": "code",
   "execution_count": 7,
   "metadata": {},
   "outputs": [
    {
     "data": {
      "text/html": [
       "<div>\n",
       "<style scoped>\n",
       "    .dataframe tbody tr th:only-of-type {\n",
       "        vertical-align: middle;\n",
       "    }\n",
       "\n",
       "    .dataframe tbody tr th {\n",
       "        vertical-align: top;\n",
       "    }\n",
       "\n",
       "    .dataframe thead th {\n",
       "        text-align: right;\n",
       "    }\n",
       "</style>\n",
       "<table border=\"1\" class=\"dataframe\">\n",
       "  <thead>\n",
       "    <tr style=\"text-align: right;\">\n",
       "      <th></th>\n",
       "      <th>attributes</th>\n",
       "      <th>price</th>\n",
       "      <th>status</th>\n",
       "      <th>adress</th>\n",
       "    </tr>\n",
       "  </thead>\n",
       "  <tbody>\n",
       "    <tr>\n",
       "      <td>998</td>\n",
       "      <td>140 m² construidos | 2 recs.</td>\n",
       "      <td>5,900,000</td>\n",
       "      <td>Casa en venta</td>\n",
       "      <td>Alhambra 1011 - Portales Sur - Benito Juárez ...</td>\n",
       "    </tr>\n",
       "    <tr>\n",
       "      <td>999</td>\n",
       "      <td>124 m² construidos | 3 recs.</td>\n",
       "      <td>2,700,000</td>\n",
       "      <td>Casa en venta</td>\n",
       "      <td>Castilla - Benito Juárez - Distrito Federal</td>\n",
       "    </tr>\n",
       "    <tr>\n",
       "      <td>1000</td>\n",
       "      <td>247 m² construidos | 3 recs.</td>\n",
       "      <td>15,219,666</td>\n",
       "      <td>Casa en venta</td>\n",
       "      <td>Amores - Del Valle Norte - Benito Juárez - Di...</td>\n",
       "    </tr>\n",
       "    <tr>\n",
       "      <td>1001</td>\n",
       "      <td>180 m² construidos | 3 recs.</td>\n",
       "      <td>1,155,966</td>\n",
       "      <td>Casa en venta</td>\n",
       "      <td>CASTILLA 142 - Alamos - Benito Juárez - Distr...</td>\n",
       "    </tr>\n",
       "    <tr>\n",
       "      <td>1002</td>\n",
       "      <td>150 m² construidos | 3 recs.</td>\n",
       "      <td>1,400,000</td>\n",
       "      <td>Casa en venta</td>\n",
       "      <td>MANUEL LOPEZ COTILLA 934 - Del Valle Centro -...</td>\n",
       "    </tr>\n",
       "    <tr>\n",
       "      <td>1003</td>\n",
       "      <td>180 m² construidos | 4 recs.</td>\n",
       "      <td>1,352,036</td>\n",
       "      <td>Casa en venta</td>\n",
       "      <td>GABRIEL MANCER 46 - Del Valle Centro - Benito...</td>\n",
       "    </tr>\n",
       "    <tr>\n",
       "      <td>1004</td>\n",
       "      <td>150 m² construidos | 3 recs.</td>\n",
       "      <td>5,990,000</td>\n",
       "      <td>Casa en venta</td>\n",
       "      <td>Jaca 914 - Santa Cruz Atoyac - Benito Juárez ...</td>\n",
       "    </tr>\n",
       "    <tr>\n",
       "      <td>1005</td>\n",
       "      <td>560 m² construidos | 4 recs.</td>\n",
       "      <td>1,010,000</td>\n",
       "      <td>Casa en venta</td>\n",
       "      <td>IDAHO 00000 - Nápoles - Benito Juárez - Distr...</td>\n",
       "    </tr>\n",
       "    <tr>\n",
       "      <td>1006</td>\n",
       "      <td>200 m² construidos | 4 recs.</td>\n",
       "      <td>1,049,998</td>\n",
       "      <td>Casa en venta</td>\n",
       "      <td>MARIA HERNANDEZ ZARCO 68 - Alamos - Benito Ju...</td>\n",
       "    </tr>\n",
       "    <tr>\n",
       "      <td>1007</td>\n",
       "      <td>219 m² construidos | 3 recs.</td>\n",
       "      <td>13,686,875</td>\n",
       "      <td>Casa en venta</td>\n",
       "      <td>Dallas - Nápoles - Benito Juárez - Distrito F...</td>\n",
       "    </tr>\n",
       "  </tbody>\n",
       "</table>\n",
       "</div>"
      ],
      "text/plain": [
       "                          attributes       price          status  \\\n",
       "998    140 m² construidos | 2 recs.    5,900,000  Casa en venta    \n",
       "999    124 m² construidos | 3 recs.    2,700,000  Casa en venta    \n",
       "1000   247 m² construidos | 3 recs.   15,219,666  Casa en venta    \n",
       "1001   180 m² construidos | 3 recs.    1,155,966  Casa en venta    \n",
       "1002   150 m² construidos | 3 recs.    1,400,000  Casa en venta    \n",
       "1003   180 m² construidos | 4 recs.    1,352,036  Casa en venta    \n",
       "1004   150 m² construidos | 3 recs.    5,990,000  Casa en venta    \n",
       "1005   560 m² construidos | 4 recs.    1,010,000  Casa en venta    \n",
       "1006   200 m² construidos | 4 recs.    1,049,998  Casa en venta    \n",
       "1007   219 m² construidos | 3 recs.   13,686,875  Casa en venta    \n",
       "\n",
       "                                                 adress  \n",
       "998    Alhambra 1011 - Portales Sur - Benito Juárez ...  \n",
       "999        Castilla - Benito Juárez - Distrito Federal   \n",
       "1000   Amores - Del Valle Norte - Benito Juárez - Di...  \n",
       "1001   CASTILLA 142 - Alamos - Benito Juárez - Distr...  \n",
       "1002   MANUEL LOPEZ COTILLA 934 - Del Valle Centro -...  \n",
       "1003   GABRIEL MANCER 46 - Del Valle Centro - Benito...  \n",
       "1004   Jaca 914 - Santa Cruz Atoyac - Benito Juárez ...  \n",
       "1005   IDAHO 00000 - Nápoles - Benito Juárez - Distr...  \n",
       "1006   MARIA HERNANDEZ ZARCO 68 - Alamos - Benito Ju...  \n",
       "1007   Dallas - Nápoles - Benito Juárez - Distrito F...  "
      ]
     },
     "execution_count": 7,
     "metadata": {},
     "output_type": "execute_result"
    }
   ],
   "source": [
    "data.tail(10)"
   ]
  },
  {
   "cell_type": "markdown",
   "metadata": {},
   "source": [
    "## Printing the results"
   ]
  },
  {
   "cell_type": "code",
   "execution_count": 8,
   "metadata": {},
   "outputs": [],
   "source": [
    "data.to_csv('benito_juarez.csv',index=False)"
   ]
  },
  {
   "cell_type": "code",
   "execution_count": null,
   "metadata": {},
   "outputs": [],
   "source": [
    "d2 = data['adress'] # Replacing values for later use\n",
    "data['adress'] = [i.replace(\"-\",\",\") for i in d2]"
   ]
  },
  {
   "cell_type": "code",
   "execution_count": null,
   "metadata": {},
   "outputs": [],
   "source": [
    "splt_att = data[\"attributes\"].str.split(\"|\", n = 2, expand = True) # splitting atribute to get new columns\n",
    "splt_att.columns = ['x','rooms']\n",
    "s_a2 = splt_att[\"x\"].str.split(\" \", n = 3, expand = True)\n",
    "s_a2.columns = ['index', 'm2', 'metric','state']\n",
    "\n",
    "m2 = s_a2['m2']\n",
    "state = s_a2['state']\n",
    "rooms = splt_att['rooms']\n",
    "\n",
    "clean_data = pd.DataFrame({'m2': m2, \n",
    "                           'State': state, \n",
    "                           'Rooms': rooms, \n",
    "                           'Price': data['price'], \n",
    "                           'Status': data['status'],\n",
    "                           'Adress': data['adress']})\n",
    "\n",
    "clean_data.head()"
   ]
  },
  {
   "cell_type": "code",
   "execution_count": null,
   "metadata": {},
   "outputs": [],
   "source": [
    "clean_data.to_csv(\"./clean_data.csv\") # printing to get coordinates"
   ]
  },
  {
   "cell_type": "code",
   "execution_count": null,
   "metadata": {},
   "outputs": [],
   "source": [
    "# Data files, all of these census data was acquired from inegi.org.mx\n",
    "Censo2010_ConjuntoDatos_path = \"DATA_CENSOs/resultados_ageb_urbana_09_cpv2010.csv\"\n",
    "Censo2010_DiccionarioDatos_path = \"DATA_CENSOs/fd_resultados_ageb_urbana_cpv2010.csv\"\n",
    "Censo2010_MetaDatos_path = \"DATA_CENSOs/resultados_ageb_urbana_09_cpv2010\"\n",
    "Censo2020_ConjuntoDatos_path = \"DATA_CENSOs/conjunto_de_datos_ageb_urbana_09_cpv2020.csv\"\n",
    "Censo2020_DiccionarioDatos_path = \"DATA_CENSOs/diccionario_datos_ageb_urbana_09_cpv2020.csv\"\n",
    "Censo2020_MetaDatos_path = \"DATA_CENSOs/metadatos_ageb_urbana_09_cpv2020\"\n",
    "\n",
    "# Read the data and the study results\n",
    "Conjunto2010_metadata = pd.read_csv(Censo2010_ConjuntoDatos_path, encoding='ISO-8859-1')\n",
    "Diccionario2010_metadata = pd.read_csv(Censo2010_DiccionarioDatos_path, encoding='ISO-8859-1')\n",
    "Conjunto2020_metadata = pd.read_csv(Censo2020_ConjuntoDatos_path, encoding='ISO-8859-1')\n",
    "Diccionario2020_metadata = pd.read_csv(Censo2020_DiccionarioDatos_path, encoding='latin1')\n",
    "\n",
    "\n",
    "# Filter out AGEB in Benito Juarez\n",
    "\n",
    "BenitoJuarez2010_metadata=Conjunto2010_metadata[Conjunto2010_metadata['nom_mun']==\"Benito JuÃ¡rez\"]\n",
    "BenitoJuarez2020_metadata=Conjunto2020_metadata[Conjunto2020_metadata['NOM_MUN']==\"Benito JuÃ¡rez\"]\n",
    "\n",
    "\n",
    "#format dfs for comparison\n",
    "BenitoJuarez2010_metadata.columns=map(lambda x:str(x).upper(),BenitoJuarez2010_metadata.columns)\n",
    "\n"
   ]
  },
  {
   "cell_type": "code",
   "execution_count": null,
   "metadata": {},
   "outputs": [],
   "source": [
    "#clean BJ2010 data, remove non repeating colums\n",
    "\n",
    "BJ210=BenitoJuarez2010_metadata.drop(columns=['Ï»¿\"ENTIDAD\"','PCON_LIM','PCLIM_MOT','PCLIM_VIS','PCLIM_LENG','PCLIM_AUD','PCLIM_MOT2',\n",
    "                                       'PCLIM_MEN','PCLIM_MEN2','PSIN_LIM','PDER_SEGP','PCATOLICA','PNCATOLICA',\n",
    "                                       'POTRAS_REL','PSIN_RELIG'])\n",
    "\n",
    "#sort for easier cleaning\n",
    "cols=BJ210.columns.tolist()\n",
    "cols.sort()\n",
    "df1=BJ210[cols]\n",
    "df1.insert(0,\"Tiempo\",(2010),True)\n",
    "df1"
   ]
  },
  {
   "cell_type": "code",
   "execution_count": null,
   "metadata": {},
   "outputs": [],
   "source": [
    "#clean BJ2020 data, remove non repeating colums\n",
    "\n",
    "BJ220=BenitoJuarez2020_metadata.drop(columns=['ï»¿ENTIDAD','PCON_DISC','PCDISC_MOT','PCDISC_VIS','PCDISC_LENG','PCDISC_AUD','PCDISC_MOT2',\n",
    "                                       'PCDISC_MEN','PCON_LIMI','PCLIM_CSB','PCLIM_VIS','PCLIM_HACO','PCLIM_OAUD',\n",
    "                                       'PCLIM_MOT2','PCLIM_RE_CO','PCLIM_PMEN','PSIND_LIM','PAFIL_PDOM','PDER_SEGP',\n",
    "                                       'PDER_IMSSB','PAFIL_IPRIV','PAFIL_OTRAI','PCATOLICA','PRO_CRIEVA','POTRAS_REL',\n",
    "                                       'PSIN_RELIG','VPH_AEASP','VPH_TINACO','VPH_CISTER','VPH_LETR','VPH_NDEAED',\n",
    "                                       'VPH_DSADMA','VPH_NDACMM','VPH_HMICRO','VPH_MOTO','VPH_BICI','VPH_STVP',\n",
    "                                       'VPH_SPMVPI','VPH_CVJ','VPH_SINRTV','VPH_SINLTC','VPH_SINCINT','VPH_SINTIC',\n",
    "                                        'POB_AFRO','POB_AFRO_F','POB_AFRO_M'])\n",
    "\n",
    "BJ220"
   ]
  },
  {
   "cell_type": "code",
   "execution_count": null,
   "metadata": {},
   "outputs": [],
   "source": [
    "#sort 2020 data\n",
    "cols2=BJ220.columns.tolist()\n",
    "cols2.sort()\n",
    "df2=BJ220[cols2]\n",
    "df2.insert(0,\"Tiempo\",(2020),True)\n",
    "df2"
   ]
  },
  {
   "cell_type": "code",
   "execution_count": null,
   "metadata": {},
   "outputs": [],
   "source": [
    "#what happens if we merge\n",
    "merge_dfs=pd.merge(df1, df2,how='outer')\n",
    "merge_dfs"
   ]
  },
  {
   "cell_type": "code",
   "execution_count": null,
   "metadata": {},
   "outputs": [],
   "source": [
    "Final_df=merge_dfs.loc[merge_dfs.duplicated(subset=['AGEB','MZA'],keep=False),:]\n",
    "Final_df"
   ]
  },
  {
   "cell_type": "code",
   "execution_count": null,
   "metadata": {},
   "outputs": [],
   "source": [
    "BJClean_data=Final_df[Final_df['AGEB']!=\"0000\"]\n",
    "\n",
    "\n",
    "BJClean_data"
   ]
  },
  {
   "cell_type": "code",
   "execution_count": null,
   "metadata": {},
   "outputs": [],
   "source": [
    "BJClean_data.to_csv('BJClean_data.csv')"
   ]
  },
  {
   "cell_type": "code",
   "execution_count": null,
   "metadata": {},
   "outputs": [],
   "source": [
    "data2 = BJClean_data # change \"data\" name"
   ]
  },
  {
   "cell_type": "code",
   "execution_count": null,
   "metadata": {},
   "outputs": [],
   "source": [
    "chosen_df = data2[['Tiempo','NOM_ENT', 'MUN', 'LOC', 'AGEB', 'MZA', 'POBTOT', 'P_0A2', 'P_60YMAS', 'PROM_HNV', 'GRAPROES', \n",
    "                  'GRAPROES_F', 'POCUPADA', 'POCUPADA_F', 'PDER_SS', 'VIVTOT', 'TVIVHAB', 'TVIVPAR', 'VIVPAR_HAB', \n",
    "                  'VIVPAR_UT', 'PROM_OCUP', 'VPH_2YMASD', 'VPH_AUTOM', 'VPH_PC', 'VPH_INTER']]\n",
    "chosen_df.head()"
   ]
  },
  {
   "cell_type": "code",
   "execution_count": null,
   "metadata": {},
   "outputs": [],
   "source": [
    "steps = chosen_df.replace(to_replace='*', value='') # replacing '*' with ''\n",
    "steps = steps.replace(to_replace='N/D', value='') # replacing 'N/D' with ''\n",
    "steps.columns= steps.columns.str.lower() # change column names to lower case\n",
    "\n",
    "steps.head()"
   ]
  },
  {
   "cell_type": "code",
   "execution_count": null,
   "metadata": {},
   "outputs": [],
   "source": [
    "steps.dtypes"
   ]
  },
  {
   "cell_type": "code",
   "execution_count": null,
   "metadata": {},
   "outputs": [],
   "source": [
    "cols=[i for i in steps.columns if i not in [\"nom_ent\",\"ageb\"]] # change data frame dtypes to do math\n",
    "for col in cols:\n",
    "    steps[col]=pd.to_numeric(steps[col])\n",
    "\n",
    "steps.dtypes"
   ]
  },
  {
   "cell_type": "code",
   "execution_count": null,
   "metadata": {},
   "outputs": [],
   "source": [
    "pd.options.display.max_columns = None # to show all columns\n",
    "pd.options.display.max_rows = None\n",
    "\n",
    "steps.head()"
   ]
  },
  {
   "cell_type": "code",
   "execution_count": null,
   "metadata": {},
   "outputs": [],
   "source": [
    "list(steps) # to know column names"
   ]
  },
  {
   "cell_type": "code",
   "execution_count": null,
   "metadata": {},
   "outputs": [],
   "source": [
    "# Percents \n",
    "\n",
    "pop02_pct = steps['p_0a2']/steps['pobtot']*100\n",
    "\n",
    "steps['pct_0a2'] = pop02_pct\n",
    "\n",
    "pop60_pct = steps['p_60ymas']/steps['pobtot']*100\n",
    "steps['pct_60'] = pop60_pct\n",
    "\n",
    "working_fem_pct = steps['pocupada_f']/steps['pocupada']*100\n",
    "\n",
    "steps['pct_wf'] = working_fem_pct\n",
    "\n",
    "inhabited_hh_pct = steps['tvivhab']/steps['vivtot']*100\n",
    "steps['pct_t_inhab_hh'] = inhabited_hh_pct\n",
    "\n",
    "private_hh_pct = steps['tvivpar']/steps['vivtot']*100\n",
    "steps['pct_privhh'] = private_hh_pct\n",
    "\n",
    "inhabited_pvt_hh_pct = steps['vivpar_hab']/steps['vivtot']*100\n",
    "steps['pct_privhh_inhab'] = inhabited_pvt_hh_pct\n",
    "\n",
    "temp_pvt_hh_pct = steps['vivpar_ut']/steps['vivtot']*100\n",
    "steps['pct_hhtemp'] = temp_pvt_hh_pct\n",
    "\n",
    "hh_with_car = steps['vph_autom']/steps['vivtot']*100\n",
    "steps['pct_hh_car'] = hh_with_car\n",
    "\n",
    "hh_with_pc = steps['vph_pc']/steps['vivtot']*100\n",
    "steps['pct_hh_pc'] = hh_with_pc\n",
    "\n",
    "hh_with_int = steps['vph_inter']/steps['vivtot']*100\n",
    "steps['pct_hh_int'] = hh_with_int\n",
    "\n",
    "shiny_df = steps\n",
    "shiny_df.head()"
   ]
  },
  {
   "cell_type": "code",
   "execution_count": null,
   "metadata": {},
   "outputs": [],
   "source": [
    "shiny_df.to_csv(\"./BJ_10_20.csv\")"
   ]
  }
 ],
 "metadata": {
  "kernelspec": {
   "display_name": "Python 3",
   "language": "python",
   "name": "python3"
  },
  "language_info": {
   "codemirror_mode": {
    "name": "ipython",
    "version": 3
   },
   "file_extension": ".py",
   "mimetype": "text/x-python",
   "name": "python",
   "nbconvert_exporter": "python",
   "pygments_lexer": "ipython3",
   "version": "3.8.5"
  }
 },
 "nbformat": 4,
 "nbformat_minor": 2
}
