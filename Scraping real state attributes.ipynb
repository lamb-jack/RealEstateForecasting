{
 "cells": [
  {
   "cell_type": "markdown",
   "metadata": {},
   "source": [
    "# Scraping real state attributes in Benito Juarez, CDMX"
   ]
  },
  {
   "cell_type": "code",
   "execution_count": 1,
   "metadata": {},
   "outputs": [],
   "source": [
    "from bs4 import BeautifulSoup\n",
    "import requests\n",
    "from scrapy import Selector\n",
    "import pandas as pd\n",
    "import numpy as np\n",
    "#my functions\n",
    "from rdb_functions import clean_list\n",
    "from rdb_functions import clean_list_url\n"
   ]
  },
  {
   "cell_type": "markdown",
   "metadata": {},
   "source": [
    "We manually searched real state sales in metroscubicos.com in Alcaldia Benito Juarez."
   ]
  },
  {
   "cell_type": "code",
   "execution_count": 2,
   "metadata": {},
   "outputs": [],
   "source": [
    "url='https://inmuebles.metroscubicos.com/casas/venta/distrito-federal/benito-juarez/#origin=search&as_word=true'\n",
    "#Get html content\n",
    "html = requests.get( url ).content\n",
    "sel = Selector( text = html )"
   ]
  },
  {
   "cell_type": "markdown",
   "metadata": {},
   "source": [
    "## Getting all urls"
   ]
  },
  {
   "cell_type": "code",
   "execution_count": 3,
   "metadata": {},
   "outputs": [],
   "source": [
    "path='//*[@class=\"andes-pagination__link\"]'\n",
    "urls=sel.xpath(path).extract()\n",
    "\n",
    "#Getting the fist urls\n",
    "urls=clean_list_url(urls)"
   ]
  },
  {
   "cell_type": "markdown",
   "metadata": {},
   "source": [
    "there aren't further urls beyond the last from the previous query"
   ]
  },
  {
   "cell_type": "code",
   "execution_count": 4,
   "metadata": {},
   "outputs": [],
   "source": [
    "#starting in last position from the previous query\n",
    "url=urls[len(urls)-1]\n",
    "\n",
    "html = requests.get( url ).content\n",
    "sel = Selector( text = html )\n",
    "\n",
    "#Getting the lasts urls\n",
    "path='//*[@class=\"andes-pagination__link\"]'\n",
    "urls2=sel.xpath(path).extract()\n",
    "urls2=clean_list_url(urls2)\n",
    "urls.extend(urls2)"
   ]
  },
  {
   "cell_type": "markdown",
   "metadata": {},
   "source": [
    "## Getting Attributes"
   ]
  },
  {
   "cell_type": "code",
   "execution_count": 5,
   "metadata": {},
   "outputs": [
    {
     "name": "stdout",
     "output_type": "stream",
     "text": [
      "This url didnt work: \n",
      " #\n",
      "This url didnt work: \n",
      " #\n"
     ]
    }
   ],
   "source": [
    "#empty list of attributes\n",
    "atr=[]\n",
    "price=[]\n",
    "status=[]\n",
    "adress=[]\n",
    "\n",
    "for url in urls:\n",
    "    try:\n",
    "        html = requests.get( url ).content\n",
    "        sel = Selector( text = html )\n",
    "    except:\n",
    "        print(f'This url didnt work: \\n {url}')\n",
    "              \n",
    "    try:\n",
    "        path='//*[@class=\"item__attrs\"]'\n",
    "        aux=sel.xpath(path).extract()\n",
    "        atr.extend(clean_list(aux))\n",
    "    except:\n",
    "        print(f'no attributes info in:\\n{url}')\n",
    "        \n",
    "    try:\n",
    "        path='//*[@class=\"price__fraction\"]'\n",
    "        aux=sel.xpath(path).extract()\n",
    "        price.extend(clean_list(aux))\n",
    "    except:\n",
    "        print(f'no prices info in:\\n{url}')\n",
    "\n",
    "    try:\n",
    "        path='//*[@class=\"item__info-title\"]'\n",
    "        aux=sel.xpath(path).extract()\n",
    "        status.extend(clean_list(aux))\n",
    "    except:\n",
    "        print(f'no prices info in:\\n{url}')\n",
    "        \n",
    "    try:\n",
    "        path='//*[@class=\"item__title\"]'\n",
    "        aux=sel.xpath(path).extract()\n",
    "        adress.extend(clean_list(aux))\n",
    "    except:\n",
    "        print(f'no prices info in:\\n{url}')  \n",
    "        "
   ]
  },
  {
   "cell_type": "markdown",
   "metadata": {},
   "source": [
    "## Generating the Pandas"
   ]
  },
  {
   "cell_type": "code",
   "execution_count": 6,
   "metadata": {},
   "outputs": [],
   "source": [
    "data=pd.DataFrame({'attributes':atr,'price':price,'status':status,'adress':adress})"
   ]
  },
  {
   "cell_type": "code",
   "execution_count": 7,
   "metadata": {},
   "outputs": [
    {
     "data": {
      "text/html": [
       "<div>\n",
       "<style scoped>\n",
       "    .dataframe tbody tr th:only-of-type {\n",
       "        vertical-align: middle;\n",
       "    }\n",
       "\n",
       "    .dataframe tbody tr th {\n",
       "        vertical-align: top;\n",
       "    }\n",
       "\n",
       "    .dataframe thead th {\n",
       "        text-align: right;\n",
       "    }\n",
       "</style>\n",
       "<table border=\"1\" class=\"dataframe\">\n",
       "  <thead>\n",
       "    <tr style=\"text-align: right;\">\n",
       "      <th></th>\n",
       "      <th>attributes</th>\n",
       "      <th>price</th>\n",
       "      <th>status</th>\n",
       "      <th>adress</th>\n",
       "    </tr>\n",
       "  </thead>\n",
       "  <tbody>\n",
       "    <tr>\n",
       "      <td>998</td>\n",
       "      <td>140 m² construidos | 2 recs.</td>\n",
       "      <td>5,900,000</td>\n",
       "      <td>Casa en venta</td>\n",
       "      <td>Alhambra 1011 - Portales Sur - Benito Juárez ...</td>\n",
       "    </tr>\n",
       "    <tr>\n",
       "      <td>999</td>\n",
       "      <td>124 m² construidos | 3 recs.</td>\n",
       "      <td>2,700,000</td>\n",
       "      <td>Casa en venta</td>\n",
       "      <td>Castilla - Benito Juárez - Distrito Federal</td>\n",
       "    </tr>\n",
       "    <tr>\n",
       "      <td>1000</td>\n",
       "      <td>247 m² construidos | 3 recs.</td>\n",
       "      <td>15,219,666</td>\n",
       "      <td>Casa en venta</td>\n",
       "      <td>Amores - Del Valle Norte - Benito Juárez - Di...</td>\n",
       "    </tr>\n",
       "    <tr>\n",
       "      <td>1001</td>\n",
       "      <td>180 m² construidos | 3 recs.</td>\n",
       "      <td>1,155,966</td>\n",
       "      <td>Casa en venta</td>\n",
       "      <td>CASTILLA 142 - Alamos - Benito Juárez - Distr...</td>\n",
       "    </tr>\n",
       "    <tr>\n",
       "      <td>1002</td>\n",
       "      <td>150 m² construidos | 3 recs.</td>\n",
       "      <td>1,400,000</td>\n",
       "      <td>Casa en venta</td>\n",
       "      <td>MANUEL LOPEZ COTILLA 934 - Del Valle Centro -...</td>\n",
       "    </tr>\n",
       "    <tr>\n",
       "      <td>1003</td>\n",
       "      <td>180 m² construidos | 4 recs.</td>\n",
       "      <td>1,352,036</td>\n",
       "      <td>Casa en venta</td>\n",
       "      <td>GABRIEL MANCER 46 - Del Valle Centro - Benito...</td>\n",
       "    </tr>\n",
       "    <tr>\n",
       "      <td>1004</td>\n",
       "      <td>150 m² construidos | 3 recs.</td>\n",
       "      <td>5,990,000</td>\n",
       "      <td>Casa en venta</td>\n",
       "      <td>Jaca 914 - Santa Cruz Atoyac - Benito Juárez ...</td>\n",
       "    </tr>\n",
       "    <tr>\n",
       "      <td>1005</td>\n",
       "      <td>560 m² construidos | 4 recs.</td>\n",
       "      <td>1,010,000</td>\n",
       "      <td>Casa en venta</td>\n",
       "      <td>IDAHO 00000 - Nápoles - Benito Juárez - Distr...</td>\n",
       "    </tr>\n",
       "    <tr>\n",
       "      <td>1006</td>\n",
       "      <td>200 m² construidos | 4 recs.</td>\n",
       "      <td>1,049,998</td>\n",
       "      <td>Casa en venta</td>\n",
       "      <td>MARIA HERNANDEZ ZARCO 68 - Alamos - Benito Ju...</td>\n",
       "    </tr>\n",
       "    <tr>\n",
       "      <td>1007</td>\n",
       "      <td>219 m² construidos | 3 recs.</td>\n",
       "      <td>13,686,875</td>\n",
       "      <td>Casa en venta</td>\n",
       "      <td>Dallas - Nápoles - Benito Juárez - Distrito F...</td>\n",
       "    </tr>\n",
       "  </tbody>\n",
       "</table>\n",
       "</div>"
      ],
      "text/plain": [
       "                          attributes       price          status  \\\n",
       "998    140 m² construidos | 2 recs.    5,900,000  Casa en venta    \n",
       "999    124 m² construidos | 3 recs.    2,700,000  Casa en venta    \n",
       "1000   247 m² construidos | 3 recs.   15,219,666  Casa en venta    \n",
       "1001   180 m² construidos | 3 recs.    1,155,966  Casa en venta    \n",
       "1002   150 m² construidos | 3 recs.    1,400,000  Casa en venta    \n",
       "1003   180 m² construidos | 4 recs.    1,352,036  Casa en venta    \n",
       "1004   150 m² construidos | 3 recs.    5,990,000  Casa en venta    \n",
       "1005   560 m² construidos | 4 recs.    1,010,000  Casa en venta    \n",
       "1006   200 m² construidos | 4 recs.    1,049,998  Casa en venta    \n",
       "1007   219 m² construidos | 3 recs.   13,686,875  Casa en venta    \n",
       "\n",
       "                                                 adress  \n",
       "998    Alhambra 1011 - Portales Sur - Benito Juárez ...  \n",
       "999        Castilla - Benito Juárez - Distrito Federal   \n",
       "1000   Amores - Del Valle Norte - Benito Juárez - Di...  \n",
       "1001   CASTILLA 142 - Alamos - Benito Juárez - Distr...  \n",
       "1002   MANUEL LOPEZ COTILLA 934 - Del Valle Centro -...  \n",
       "1003   GABRIEL MANCER 46 - Del Valle Centro - Benito...  \n",
       "1004   Jaca 914 - Santa Cruz Atoyac - Benito Juárez ...  \n",
       "1005   IDAHO 00000 - Nápoles - Benito Juárez - Distr...  \n",
       "1006   MARIA HERNANDEZ ZARCO 68 - Alamos - Benito Ju...  \n",
       "1007   Dallas - Nápoles - Benito Juárez - Distrito F...  "
      ]
     },
     "execution_count": 7,
     "metadata": {},
     "output_type": "execute_result"
    }
   ],
   "source": [
    "data.tail(10)"
   ]
  },
  {
   "cell_type": "markdown",
   "metadata": {},
   "source": [
    "## Printing the results"
   ]
  },
  {
   "cell_type": "code",
   "execution_count": 8,
   "metadata": {},
   "outputs": [],
   "source": [
    "data.to_csv('benito_juarez.csv',index=False)"
   ]
  }
 ],
 "metadata": {
  "kernelspec": {
   "display_name": "Python 3",
   "language": "python",
   "name": "python3"
  },
  "language_info": {
   "codemirror_mode": {
    "name": "ipython",
    "version": 3
   },
   "file_extension": ".py",
   "mimetype": "text/x-python",
   "name": "python",
   "nbconvert_exporter": "python",
   "pygments_lexer": "ipython3",
   "version": "3.7.4"
  }
 },
 "nbformat": 4,
 "nbformat_minor": 2
}
